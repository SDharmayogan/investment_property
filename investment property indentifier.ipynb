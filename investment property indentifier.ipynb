{
 "cells": [
  {
   "cell_type": "code",
   "execution_count": 2,
   "metadata": {},
   "outputs": [],
   "source": [
    "import math\n",
    "import metapy\n",
    "import sys\n",
    "import time\n",
    "import pytoml\n",
    "import numpy"
   ]
  },
  {
   "cell_type": "code",
   "execution_count": 3,
   "metadata": {},
   "outputs": [
    {
     "data": {
      "text/plain": [
       "30"
      ]
     },
     "execution_count": 3,
     "metadata": {},
     "output_type": "execute_result"
    }
   ],
   "source": [
    "idx = metapy.index.make_inverted_index('config.toml')\n",
    "idx.num_docs()"
   ]
  },
  {
   "cell_type": "code",
   "execution_count": 4,
   "metadata": {},
   "outputs": [
    {
     "data": {
      "text/plain": [
       "2568"
      ]
     },
     "execution_count": 4,
     "metadata": {},
     "output_type": "execute_result"
    }
   ],
   "source": [
    "idx.total_corpus_terms()"
   ]
  },
  {
   "cell_type": "code",
   "execution_count": 5,
   "metadata": {},
   "outputs": [
    {
     "data": {
      "text/plain": [
       "85.5999984741211"
      ]
     },
     "execution_count": 5,
     "metadata": {},
     "output_type": "execute_result"
    }
   ],
   "source": [
    "idx.avg_doc_length()"
   ]
  },
  {
   "cell_type": "code",
   "execution_count": 6,
   "metadata": {},
   "outputs": [
    {
     "data": {
      "text/plain": [
       "2"
      ]
     },
     "execution_count": 6,
     "metadata": {},
     "output_type": "execute_result"
    }
   ],
   "source": [
    "fidx = metapy.index.make_forward_index('config.toml')\n",
    "fidx.num_labels()"
   ]
  },
  {
   "cell_type": "code",
   "execution_count": 19,
   "metadata": {},
   "outputs": [
    {
     "data": {
      "text/plain": [
       "30"
      ]
     },
     "execution_count": 19,
     "metadata": {},
     "output_type": "execute_result"
    }
   ],
   "source": [
    "dset = metapy.classify.MulticlassDataset(fidx)\n",
    "len(dset)"
   ]
  },
  {
   "cell_type": "code",
   "execution_count": 8,
   "metadata": {},
   "outputs": [
    {
     "data": {
      "text/plain": [
       "{'investment', 'movein'}"
      ]
     },
     "execution_count": 8,
     "metadata": {},
     "output_type": "execute_result"
    }
   ],
   "source": [
    "set([dset.label(instance) for instance in dset])"
   ]
  },
  {
   "cell_type": "code",
   "execution_count": 14,
   "metadata": {},
   "outputs": [
    {
     "name": "stdout",
     "output_type": "stream",
     "text": [
      " Naive Bayes (Avg Accuracy): 0.77025\n"
     ]
    }
   ],
   "source": [
    "accumalator = 0\n",
    "for i in range (1000):\n",
    "    view = dset[0:len(dset)+1]\n",
    "    view = metapy.classify.MulticlassDatasetView(dset)\n",
    "    view.shuffle()\n",
    "    #print(\"{} vs {}\".format(view[0].id, dset[0].id))\n",
    "    training = view[0:int(0.75*len(view))]\n",
    "    testing = view[int(0.75*len(view)):len(view)+1]\n",
    "    nb = metapy.classify.NaiveBayes(training)\n",
    "    mtrx = nb.test(testing)\n",
    "    #print(mtrx)\n",
    "    #mtrx.print_stats()\n",
    "    accumalator = accumalator + mtrx.accuracy()\n",
    "naiveBayesAccurcy = accumalator/1000\n",
    "print(\" Naive Bayes (Avg Accuracy): \"+ str(accumalator/1000))\n"
   ]
  },
  {
   "cell_type": "code",
   "execution_count": 45,
   "metadata": {},
   "outputs": [
    {
     "name": "stdout",
     "output_type": "stream",
     "text": [
      " SVM (Avg Accuracy): 0.819375\n"
     ]
    }
   ],
   "source": [
    "accumalator = 0\n",
    "for i in range (1000):\n",
    "    view = dset[0:len(dset)+1]\n",
    "    view = metapy.classify.MulticlassDatasetView(dset)\n",
    "    view.shuffle()\n",
    "    #print(\"{} vs {}\".format(view[0].id, dset[0].id))\n",
    "    training = view[0:int(0.75*len(view))]\n",
    "    testing = view[int(0.75*len(view)):len(view)+1]\n",
    "    ova = metapy.classify.OneVsAll(training, metapy.classify.SGD, loss_id='hinge')\n",
    "    mtrx = ova.test(testing)\n",
    "    #print(mtrx)\n",
    "    #mtrx.print_stats()\n",
    "    accumalator = accumalator + mtrx.accuracy()\n",
    "SVMAccurcy = accumalator/1000\n",
    "print(\" SVM (Avg Accuracy): \"+ str(accumalator/1000))"
   ]
  },
  {
   "cell_type": "code",
   "execution_count": 37,
   "metadata": {},
   "outputs": [
    {
     "name": "stdout",
     "output_type": "stream",
     "text": [
      " Logistic Regression (Avg Accuracy): 0.780875\n"
     ]
    }
   ],
   "source": [
    "accumalator = 0\n",
    "for i in range (1000):\n",
    "    view = dset[0:len(dset)+1]\n",
    "    view = metapy.classify.MulticlassDatasetView(dset)\n",
    "    view.shuffle()\n",
    "    #print(\"{} vs {}\".format(view[0].id, dset[0].id))\n",
    "    training = view[0:int(0.75*len(view))]\n",
    "    testing = view[int(0.75*len(view)):len(view)+1]\n",
    "    ova = metapy.classify.LogisticRegression(training)\n",
    "    mtrx = ova.test(testing)\n",
    "    #print(mtrx)\n",
    "    #mtrx.print_stats()\n",
    "    accumalator = accumalator + mtrx.accuracy()\n",
    "LogisticRegressionAccurcy = accumalator/1000\n",
    "print(\" Logistic Regression (Avg Accuracy): \"+ str(accumalator/1000))"
   ]
  },
  {
   "cell_type": "code",
   "execution_count": 40,
   "metadata": {},
   "outputs": [],
   "source": []
  },
  {
   "cell_type": "code",
   "execution_count": 50,
   "metadata": {},
   "outputs": [
    {
     "name": "stdout",
     "output_type": "stream",
     "text": [
      " Dirichlet Prior Retrieval: (MAP): 0.8788888888888889\n"
     ]
    }
   ],
   "source": [
    "query = metapy.index.Document()\n",
    "num_results = 10\n",
    "query = metapy.index.Document()\n",
    "ranker = metapy.index.DirichletPrior(25)\n",
    "ev = metapy.index.IREval('config.toml')\n",
    "with open('config.toml', 'r') as fin:\n",
    "    cfg_d = pytoml.load(fin)\n",
    "    query_cfg = cfg_d['query-runner']\n",
    "    query_start = query_cfg.get('query-id-start', 0)\n",
    "\n",
    "    with open('investment-queries.txt') as query_file:\n",
    "        for query_num, line in enumerate(query_file):\n",
    "            query.content(line.strip())\n",
    "            #print(query.content())\n",
    "            results = ranker.score(idx, query, num_results)\n",
    "            #print(results)\n",
    "            #print(num_results)\n",
    "            avg_p = ev.avg_p(results, query_start + query_num, num_results)\n",
    "            #print(\"Query {} average precision: {}\".format(query_num + 1, avg_p))\n",
    "DPRetrieval = ev.map()\n",
    "print(\" Dirichlet Prior Retrieval: (MAP): \"+ str(ev.map()))"
   ]
  },
  {
   "cell_type": "code",
   "execution_count": 51,
   "metadata": {},
   "outputs": [
    {
     "name": "stdout",
     "output_type": "stream",
     "text": [
      " Dirichlet Prior Retrieval: (MAP): 0.8788888888888889\n",
      " SVM (Avg Accuracy): 0.819375\n",
      " Logistic Regression (Avg Accuracy): 0.780875\n",
      " Naive Bayes (Avg Accuracy): 0.77025\n"
     ]
    }
   ],
   "source": [
    "print(\" Dirichlet Prior Retrieval: (MAP): \"+ str(DPRetrieval))\n",
    "print(\" SVM (Avg Accuracy): \"+ str(SVMAccurcy))\n",
    "print(\" Logistic Regression (Avg Accuracy): \"+ str(LogisticRegressionAccurcy))\n",
    "print(\" Naive Bayes (Avg Accuracy): \"+ str(naiveBayesAccurcy))"
   ]
  }
 ],
 "metadata": {
  "kernelspec": {
   "display_name": "Python 3",
   "language": "python",
   "name": "python3"
  },
  "language_info": {
   "codemirror_mode": {
    "name": "ipython",
    "version": 3
   },
   "file_extension": ".py",
   "mimetype": "text/x-python",
   "name": "python",
   "nbconvert_exporter": "python",
   "pygments_lexer": "ipython3",
   "version": "3.6.5"
  }
 },
 "nbformat": 4,
 "nbformat_minor": 2
}
